{
 "cells": [
  {
   "cell_type": "markdown",
   "metadata": {},
   "source": [
    "# My Jupyter Notebook on IBM Watson Studio"
   ]
  },
  {
   "cell_type": "markdown",
   "metadata": {
    "tags": []
   },
   "source": [
    "**Oguzhan Icer**"
   ]
  },
  {
   "cell_type": "markdown",
   "metadata": {},
   "source": [
    "Mechanical Engineer Who Wants to Be a Data Scientist"
   ]
  },
  {
   "cell_type": "markdown",
   "metadata": {},
   "source": [
    "*I am interested in data science because I know that data scientists in near future will change our lives in a good way.*"
   ]
  },
  {
   "cell_type": "markdown",
   "metadata": {},
   "source": [
    "### The following code shows calculation of factorial function   ###"
   ]
  },
  {
   "cell_type": "code",
   "execution_count": 4,
   "metadata": {},
   "outputs": [
    {
     "data": {
      "text/plain": [
       "True"
      ]
     },
     "execution_count": 4,
     "metadata": {},
     "output_type": "execute_result"
    }
   ],
   "source": [
    "def factorial(r):\n",
    "    if r == 0:\n",
    "        toplam = 1\n",
    "        return toplam\n",
    "    else:\n",
    "        r = int(r)\n",
    "        toplam = 1\n",
    "        for i in range(1, r+1):\n",
    "            toplam *= i\n",
    "        return toplam\n",
    "\n",
    "factorial(5) == 120"
   ]
  },
  {
   "cell_type": "markdown",
   "metadata": {},
   "source": [
    "1. PYTHON\n",
    "2. R\n",
    "3. SQL\n",
    "4. TABLEAU\n",
    "5. PANDAS\n",
    "6. SAS\n",
    "7. APACHE SPARK\n",
    "8. MATLAB\n",
    "9. TENSOR FLOW\n",
    "10. SCIKIT-LEARN\n",
    "\n",
    "| Employee | Department | Experience | Salary |\n",
    "|----------|------------|------------|--------|\n",
    "|John      |Engineering | 10 years   |200K USD|\n",
    "|                                             |\n",
    "|Adam      |Sales       | 5 years    |150K USD|"
   ]
  },
  {
   "cell_type": "code",
   "execution_count": null,
   "metadata": {},
   "outputs": [],
   "source": []
  }
 ],
 "metadata": {
  "kernelspec": {
   "display_name": "Python",
   "language": "python",
   "name": "conda-env-python-py"
  },
  "language_info": {
   "codemirror_mode": {
    "name": "ipython",
    "version": 3
   },
   "file_extension": ".py",
   "mimetype": "text/x-python",
   "name": "python",
   "nbconvert_exporter": "python",
   "pygments_lexer": "ipython3",
   "version": "3.7.12"
  }
 },
 "nbformat": 4,
 "nbformat_minor": 4
}
